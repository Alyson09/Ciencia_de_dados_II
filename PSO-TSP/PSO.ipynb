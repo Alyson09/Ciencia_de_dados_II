{
 "cells": [
  {
   "cell_type": "code",
   "execution_count": 1,
   "metadata": {},
   "outputs": [
    {
     "name": "stdout",
     "output_type": "stream",
     "text": [
      "ola mundo\n"
     ]
    }
   ],
   "source": [
    "print(\"ola mundo\")"
   ]
  },
  {
   "cell_type": "code",
   "execution_count": 6,
   "metadata": {},
   "outputs": [],
   "source": [
    "import numpy as np\n",
    "import pandas as pd\n",
    "import random\n"
   ]
  },
  {
   "cell_type": "code",
   "execution_count": 14,
   "metadata": {},
   "outputs": [
    {
     "name": "stdout",
     "output_type": "stream",
     "text": [
      "Cidades: [4.6, 0.0, 3.5, 3.5, 5.2, 5.1, 6.6, 6.3, 8.0, 6.8, 7.8, 7.5, 6.5, 7.5, 7.1, 5.8, 8.3, 5.6]\n",
      "Matriz de Distâncias:\n",
      " [[2.2  5.5  0.6  0.65 1.7  0.55 2.3  0.   1.3  1.6  0.85 1.1  0.8  0.45\n",
      "  1.3  1.5  1.7 ]\n",
      " [4.3  3.5  4.8  5.2  3.7  4.3  4.1  4.6  5.3  4.7  4.1  4.2  5.1  4.5\n",
      "  5.6  5.5  4.2 ]\n",
      " [1.9  3.   2.4  2.9  1.4  1.7  0.   2.3  3.   2.4  1.9  1.7  2.6  2.2\n",
      "  3.3  2.9  1.6 ]\n",
      " [2.6  0.   4.3  4.7  3.3  4.3  3.   4.2  4.8  4.7  3.9  3.3  4.5  3.6\n",
      "  5.   5.1  3.4 ]\n",
      " [3.   5.8  0.85 0.   2.4  1.   2.9  0.5  1.1  1.   1.5  1.5  0.5  1.3\n",
      "  1.5  1.   2.2 ]\n",
      " [2.5  4.6  0.2  0.5  1.8  1.   2.6  0.8  0.5  1.4  1.6  1.4  0.   1.3\n",
      "  1.   1.5  2.  ]\n",
      " [1.7  2.8  1.8  2.2  1.1  2.2  1.4  1.6  2.3  1.8  1.3  0.6  1.9  1.5\n",
      "  2.6  2.3  0.  ]\n",
      " [1.7  3.3  1.1  1.5  1.1  1.1  1.3  1.6  1.6  1.7  1.2  0.   1.2  1.2\n",
      "  1.9  2.3  0.55]\n",
      " [2.7  4.8  0.5  1.1  2.1  1.6  2.9  1.3  0.   2.   1.8  1.8  0.55 1.4\n",
      "  1.1  2.   2.4 ]\n",
      " [1.7  3.6  1.2  1.3  1.1  0.24 1.6  0.75 1.7  0.9  0.55 1.6  1.3  0.\n",
      "  0.7  1.4  1.6 ]\n",
      " [2.5  4.6  1.3  1.   1.8  1.   2.7  0.8  1.8  0.   1.2  1.5  1.4  1.2\n",
      "  2.   0.55 2.1 ]\n",
      " [2.2  4.3  0.   0.8  1.5  1.2  2.4  1.   0.5  1.7  1.5  1.2  0.29 0.9\n",
      "  0.8  1.8  1.8 ]\n",
      " [0.6  3.3  2.   2.4  0.   1.2  1.3  1.7  2.5  0.63 1.3  1.2  2.1  1.6\n",
      "  2.8  2.4  1.2 ]\n",
      " [2.2  4.3  1.   1.   1.6  0.   2.4  0.5  1.5  0.8  0.15 1.2  1.1  0.4\n",
      "  1.8  1.2  1.9 ]\n",
      " [1.9  3.9  1.5  1.5  1.3  0.4  1.9  1.   1.8  1.2  0.   1.8  1.6  0.6\n",
      "  2.2  1.7  1.8 ]\n",
      " [0.   2.6  2.6  4.1  1.1  1.7  1.9  2.2  3.1  2.1  1.9  1.8  2.7  2.1\n",
      "  4.5  2.9  1.8 ]\n",
      " [2.9  5.1  1.8  1.   2.3  1.5  3.2  1.3  2.   0.55 1.7  2.   1.4  1.3\n",
      "  2.5  0.   2.6 ]\n",
      " [3.4  6.2  0.8  1.4  2.8  1.8  3.3  1.3  0.9  2.4  2.1  2.   1.   1.5\n",
      "  0.   2.4  2.6 ]]\n"
     ]
    }
   ],
   "source": [
    "bd = pd.read_csv('./CSV Rotas - Base de Dados.csv')\n",
    "\n",
    "cidades = bd.iloc[:, 0].tolist()\n",
    "\n",
    "distancias = bd.iloc[:, 1:].to_numpy()\n",
    "\n",
    "print(\"Cidades:\", cidades)\n",
    "print(\"Matriz de Distâncias:\\n\", distancias)"
   ]
  }
 ],
 "metadata": {
  "kernelspec": {
   "display_name": "Python 3",
   "language": "python",
   "name": "python3"
  },
  "language_info": {
   "codemirror_mode": {
    "name": "ipython",
    "version": 3
   },
   "file_extension": ".py",
   "mimetype": "text/x-python",
   "name": "python",
   "nbconvert_exporter": "python",
   "pygments_lexer": "ipython3",
   "version": "3.12.1"
  }
 },
 "nbformat": 4,
 "nbformat_minor": 2
}
